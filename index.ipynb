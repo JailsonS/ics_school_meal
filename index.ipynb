{
 "cells": [
  {
   "cell_type": "code",
   "execution_count": 1,
   "id": "a7ce37a7",
   "metadata": {},
   "outputs": [
    {
     "data": {
      "text/plain": [
       "polars.config.Config"
      ]
     },
     "execution_count": 1,
     "metadata": {},
     "output_type": "execute_result"
    }
   ],
   "source": [
    "import polars as pl\n",
    "import json\n",
    "from pprint import pprint\n",
    "pl.Config.set_tbl_rows(50)\n",
    "\n"
   ]
  },
  {
   "cell_type": "code",
   "execution_count": 2,
   "id": "16436c8b",
   "metadata": {},
   "outputs": [],
   "source": [
    "ITENS_COLUNAS = [\n",
    "    'item',\n",
    "    'un',\n",
    "    'qt',\n",
    "    'valor_unidade',\n",
    "    'valor_unidade_total'\n",
    "]\n",
    "\n",
    "UNKNOWN_TEXT = 'Desconhecido'\n",
    "\n",
    "# Dados para visualização\n",
    "VIS_COLS = [\n",
    "    'id_nota_fiscal',\n",
    "    'valor_nota_fiscal',\n",
    "    'item_deduplicado',\n",
    "    'qt',\n",
    "    'valor_unidade',\n",
    "    'valor_unidade_total',\n",
    "]\n"
   ]
  },
  {
   "cell_type": "code",
   "execution_count": 19,
   "id": "b69de11e",
   "metadata": {},
   "outputs": [],
   "source": [
    "df = pl.read_parquet('data/banco_analise_2.parquet')\n",
    "\n",
    "df_enriched = df.filter(pl.col('quantidade_item').is_not_null())\n",
    "\n",
    "item_description = json.load(open('item_cache.json', 'r'))\n"
   ]
  },
  {
   "cell_type": "code",
   "execution_count": 20,
   "id": "fb93d4b7",
   "metadata": {},
   "outputs": [
    {
     "name": "stdout",
     "output_type": "stream",
     "text": [
      "Número de linhas: 64,703,191\n",
      "Registros com valor_unidade = 0 e valor_unidade_total != 0: 23,392,240 (36.15%)\n",
      "Registros com valor_unidade = 0 e valor_unidade_total = 0: 2,151 (0.00%)\n",
      "Número de items extraídos 104185\n"
     ]
    }
   ],
   "source": [
    "total = len(df)\n",
    "\n",
    "print(f\"Número de linhas: {total:,}\")\n",
    "\n",
    "q1 = len(df.filter(\n",
    "    (pl.col('valor_unidade') == 0) & \n",
    "    (pl.col('valor_unidade_total') != 0) & \n",
    "    (pl.col('qt') != 0)\n",
    "))\n",
    "\n",
    "print(\n",
    "    f\"Registros com valor_unidade = 0 e valor_unidade_total != 0: \"\n",
    "    f\"{q1:,} ({q1/total:.2%})\"\n",
    ")\n",
    "\n",
    "q2 = len(df.filter((pl.col('valor_unidade') == 0) & (pl.col('valor_unidade_total') == 0)))\n",
    "print(\n",
    "    f\"Registros com valor_unidade = 0 e valor_unidade_total = 0: \"\n",
    "    f\"{q2:,} ({q2/total:.2%})\"\n",
    ")\n",
    "\n",
    "print(\n",
    "    'Número de items extraídos', len(item_description.keys())\n",
    ")"
   ]
  },
  {
   "cell_type": "code",
   "execution_count": 5,
   "id": "905344e2",
   "metadata": {},
   "outputs": [
    {
     "name": "stderr",
     "output_type": "stream",
     "text": [
      "/var/folders/42/_z7t3f3n2b74bggwwctg77z80000gn/T/ipykernel_64555/110374142.py:12: DeprecationWarning: the `default` parameter for `replace` is deprecated. Use `replace_strict` instead to set a default while replacing values.\n",
      "(Deprecated in version 1.0.0)\n",
      "  .replace(unidades_corrigidas, default=pl.col(\"unidade_item\"))\n"
     ]
    }
   ],
   "source": [
    "unidades_corrigidas = {\n",
    "    \"UNID\": 'UN', \n",
    "    \"UN\": 'UN',\n",
    "    \"QUILOGRAMA\": 'KG',\n",
    "    \"KG\": 'KG',\n",
    "    \"QUILOGRAMAS\": 'KG',\n",
    "    \"LITRO\": 'L'\n",
    "}   \n",
    "\n",
    "df_enriched = df_enriched.with_columns(\n",
    "    pl.col(\"unidade_item\")\n",
    "    .replace(unidades_corrigidas, default=pl.col(\"unidade_item\"))\n",
    "    .alias(\"unidade_item\")\n",
    ")"
   ]
  },
  {
   "cell_type": "code",
   "execution_count": 14,
   "id": "eca9079f",
   "metadata": {},
   "outputs": [
    {
     "data": {
      "text/html": [
       "<div><style>\n",
       ".dataframe > thead > tr,\n",
       ".dataframe > tbody > tr {\n",
       "  text-align: right;\n",
       "  white-space: pre-wrap;\n",
       "}\n",
       "</style>\n",
       "<small>shape: (53, 2)</small><table border=\"1\" class=\"dataframe\"><thead><tr><th>unidade_item</th><th>count</th></tr><tr><td>str</td><td>u32</td></tr></thead><tbody><tr><td>&quot;Desconhecido&quot;</td><td>61526</td></tr><tr><td>&quot;G&quot;</td><td>13132</td></tr><tr><td>&quot;KG&quot;</td><td>11926</td></tr><tr><td>&quot;ML&quot;</td><td>2204</td></tr><tr><td>&quot;GR&quot;</td><td>2055</td></tr><tr><td>&quot;PCT&quot;</td><td>1164</td></tr><tr><td>&quot;UN&quot;</td><td>1023</td></tr><tr><td>&quot;L&quot;</td><td>360</td></tr><tr><td>&quot;CX&quot;</td><td>324</td></tr><tr><td>&quot;LT&quot;</td><td>199</td></tr><tr><td>&quot;UND&quot;</td><td>91</td></tr><tr><td>&quot;DUZIA&quot;</td><td>79</td></tr><tr><td>&quot;GRS&quot;</td><td>72</td></tr><tr><td>&quot;EMB&quot;</td><td>56</td></tr><tr><td>&quot;LTR&quot;</td><td>48</td></tr><tr><td>&quot;PET&quot;</td><td>48</td></tr><tr><td>&quot;UNICA&quot;</td><td>41</td></tr><tr><td>&quot;GRAMAS&quot;</td><td>33</td></tr><tr><td>&quot;DUZIAS&quot;</td><td>23</td></tr><tr><td>&quot;LITROS&quot;</td><td>20</td></tr><tr><td>&quot;UNIDADE&quot;</td><td>18</td></tr><tr><td>&quot;UNIDADES&quot;</td><td>13</td></tr><tr><td>&quot;UNIDS&quot;</td><td>12</td></tr><tr><td>&quot;FCO&quot;</td><td>12</td></tr><tr><td>&quot;PEC&quot;</td><td>11</td></tr><tr><td>&hellip;</td><td>&hellip;</td></tr><tr><td>&quot;GL&quot;</td><td>8</td></tr><tr><td>&quot;OVOS&quot;</td><td>7</td></tr><tr><td>&quot;OVOS EMB&quot;</td><td>7</td></tr><tr><td>&quot;LIT&quot;</td><td>6</td></tr><tr><td>&quot;MACO&quot;</td><td>5</td></tr><tr><td>&quot;SACHE&quot;</td><td>5</td></tr><tr><td>&quot;MILILITRO&quot;</td><td>5</td></tr><tr><td>&quot;SACO&quot;</td><td>3</td></tr><tr><td>&quot;UD&quot;</td><td>3</td></tr><tr><td>&quot;ALM&quot;</td><td>3</td></tr><tr><td>&quot;BDJ&quot;</td><td>3</td></tr><tr><td>&quot;KL&quot;</td><td>2</td></tr><tr><td>&quot;RL&quot;</td><td>2</td></tr><tr><td>&quot;SACHES&quot;</td><td>2</td></tr><tr><td>&quot;PECA&quot;</td><td>2</td></tr><tr><td>&quot;TRIB&quot;</td><td>2</td></tr><tr><td>&quot;LTS&quot;</td><td>2</td></tr><tr><td>&quot;FD&quot;</td><td>1</td></tr><tr><td>&quot;KILO&quot;</td><td>1</td></tr><tr><td>&quot;GRMA&quot;</td><td>1</td></tr><tr><td>&quot;SACHETS&quot;</td><td>1</td></tr><tr><td>&quot;BANDEJA&quot;</td><td>1</td></tr><tr><td>&quot;ESPIGAS&quot;</td><td>1</td></tr><tr><td>&quot;LTO&quot;</td><td>1</td></tr><tr><td>&quot;CXS&quot;</td><td>1</td></tr></tbody></table></div>"
      ],
      "text/plain": [
       "shape: (53, 2)\n",
       "┌──────────────┬───────┐\n",
       "│ unidade_item ┆ count │\n",
       "│ ---          ┆ ---   │\n",
       "│ str          ┆ u32   │\n",
       "╞══════════════╪═══════╡\n",
       "│ Desconhecido ┆ 61526 │\n",
       "│ G            ┆ 13132 │\n",
       "│ KG           ┆ 11926 │\n",
       "│ ML           ┆ 2204  │\n",
       "│ GR           ┆ 2055  │\n",
       "│ PCT          ┆ 1164  │\n",
       "│ UN           ┆ 1023  │\n",
       "│ L            ┆ 360   │\n",
       "│ CX           ┆ 324   │\n",
       "│ LT           ┆ 199   │\n",
       "│ UND          ┆ 91    │\n",
       "│ DUZIA        ┆ 79    │\n",
       "│ GRS          ┆ 72    │\n",
       "│ EMB          ┆ 56    │\n",
       "│ LTR          ┆ 48    │\n",
       "│ PET          ┆ 48    │\n",
       "│ UNICA        ┆ 41    │\n",
       "│ GRAMAS       ┆ 33    │\n",
       "│ DUZIAS       ┆ 23    │\n",
       "│ LITROS       ┆ 20    │\n",
       "│ UNIDADE      ┆ 18    │\n",
       "│ UNIDADES     ┆ 13    │\n",
       "│ UNIDS        ┆ 12    │\n",
       "│ FCO          ┆ 12    │\n",
       "│ PEC          ┆ 11    │\n",
       "│ …            ┆ …     │\n",
       "│ GL           ┆ 8     │\n",
       "│ OVOS         ┆ 7     │\n",
       "│ OVOS EMB     ┆ 7     │\n",
       "│ LIT          ┆ 6     │\n",
       "│ MACO         ┆ 5     │\n",
       "│ SACHE        ┆ 5     │\n",
       "│ MILILITRO    ┆ 5     │\n",
       "│ SACO         ┆ 3     │\n",
       "│ UD           ┆ 3     │\n",
       "│ ALM          ┆ 3     │\n",
       "│ BDJ          ┆ 3     │\n",
       "│ KL           ┆ 2     │\n",
       "│ RL           ┆ 2     │\n",
       "│ SACHES       ┆ 2     │\n",
       "│ PECA         ┆ 2     │\n",
       "│ TRIB         ┆ 2     │\n",
       "│ LTS          ┆ 2     │\n",
       "│ FD           ┆ 1     │\n",
       "│ KILO         ┆ 1     │\n",
       "│ GRMA         ┆ 1     │\n",
       "│ SACHETS      ┆ 1     │\n",
       "│ BANDEJA      ┆ 1     │\n",
       "│ ESPIGAS      ┆ 1     │\n",
       "│ LTO          ┆ 1     │\n",
       "│ CXS          ┆ 1     │\n",
       "└──────────────┴───────┘"
      ]
     },
     "execution_count": 14,
     "metadata": {},
     "output_type": "execute_result"
    }
   ],
   "source": [
    "df_enriched['unidade_item'].value_counts().sort(by='count', descending=True)"
   ]
  },
  {
   "cell_type": "code",
   "execution_count": null,
   "id": "a75e3bc6",
   "metadata": {},
   "outputs": [],
   "source": []
  },
  {
   "cell_type": "code",
   "execution_count": 7,
   "id": "acb2f57f",
   "metadata": {},
   "outputs": [
    {
     "data": {
      "text/html": [
       "<div><style>\n",
       ".dataframe > thead > tr,\n",
       ".dataframe > tbody > tr {\n",
       "  text-align: right;\n",
       "  white-space: pre-wrap;\n",
       "}\n",
       "</style>\n",
       "<small>shape: (1_023, 5)</small><table border=\"1\" class=\"dataframe\"><thead><tr><th>item</th><th>item_deduplicado</th><th>valor_unidade</th><th>unidade_item</th><th>un</th></tr><tr><td>str</td><td>str</td><td>f32</td><td>str</td><td>str</td></tr></thead><tbody><tr><td>&quot;TEMPERO VERDE UN&quot;</td><td>&quot;TEMPERO VERDE&quot;</td><td>0.9</td><td>&quot;UN&quot;</td><td>&quot;UNB&quot;</td></tr><tr><td>&quot;GOIABA VERMELHA TIPO 12-UN&quot;</td><td>&quot;GOIABA VERMELHA TIPO&quot;</td><td>0.69</td><td>&quot;UN&quot;</td><td>&quot;UN&quot;</td></tr><tr><td>&quot;GOIABA VERMELHA TIPO 12-UN&quot;</td><td>&quot;GOIABA VERMELHA TIPO&quot;</td><td>0.69</td><td>&quot;UN&quot;</td><td>&quot;UN&quot;</td></tr><tr><td>&quot;GOIABA VERMELHA TIPO 12-UN&quot;</td><td>&quot;GOIABA VERMELHA TIPO&quot;</td><td>0.69</td><td>&quot;UN&quot;</td><td>&quot;UN&quot;</td></tr><tr><td>&quot;GOIABA VERMELHA TIPO 12-UN&quot;</td><td>&quot;GOIABA VERMELHA TIPO&quot;</td><td>0.69</td><td>&quot;UN&quot;</td><td>&quot;UN&quot;</td></tr><tr><td>&quot;GOIABA VERMELHA TIPO 12-UN&quot;</td><td>&quot;GOIABA VERMELHA TIPO&quot;</td><td>0.69</td><td>&quot;UN&quot;</td><td>&quot;UN&quot;</td></tr><tr><td>&quot;GOIABA VERMELHA TIPO 12-UN&quot;</td><td>&quot;GOIABA VERMELHA TIPO&quot;</td><td>0.69</td><td>&quot;UN&quot;</td><td>&quot;UN&quot;</td></tr><tr><td>&quot;GOIABA VERMELHA TIPO 12-UN&quot;</td><td>&quot;GOIABA VERMELHA TIPO&quot;</td><td>0.69</td><td>&quot;UN&quot;</td><td>&quot;UN&quot;</td></tr><tr><td>&quot;GOIABA VERMELHA TIPO 12-UN&quot;</td><td>&quot;GOIABA VERMELHA TIPO&quot;</td><td>0.69</td><td>&quot;UN&quot;</td><td>&quot;UN&quot;</td></tr><tr><td>&quot;TEMPERO VERDE UN&quot;</td><td>&quot;TEMPERO VERDE&quot;</td><td>2.0</td><td>&quot;UN&quot;</td><td>&quot;UN&quot;</td></tr><tr><td>&quot;TEMPERO VERDE UN&quot;</td><td>&quot;TEMPERO VERDE&quot;</td><td>2.0</td><td>&quot;UN&quot;</td><td>&quot;UN&quot;</td></tr><tr><td>&quot;TEMPERO VERDE UN&quot;</td><td>&quot;TEMPERO VERDE&quot;</td><td>2.0</td><td>&quot;UN&quot;</td><td>&quot;UN&quot;</td></tr><tr><td>&quot;TEMPERO VERDE UN&quot;</td><td>&quot;TEMPERO VERDE&quot;</td><td>2.0</td><td>&quot;UN&quot;</td><td>&quot;UN&quot;</td></tr><tr><td>&quot;TEMPERO VERDE UN&quot;</td><td>&quot;TEMPERO VERDE&quot;</td><td>2.0</td><td>&quot;UN&quot;</td><td>&quot;UN&quot;</td></tr><tr><td>&quot;TEMPERO VERDE UN&quot;</td><td>&quot;TEMPERO VERDE&quot;</td><td>2.0</td><td>&quot;UN&quot;</td><td>&quot;UN&quot;</td></tr><tr><td>&quot;TEMPERO VERDE UN&quot;</td><td>&quot;TEMPERO VERDE&quot;</td><td>4.96</td><td>&quot;UN&quot;</td><td>&quot;UN&quot;</td></tr><tr><td>&quot;VERDURAS - ALFACE ROXA HIDROPO…</td><td>&quot;VERDURAS ALFACE ROXA HIDROPONI…</td><td>2.4</td><td>&quot;UN&quot;</td><td>&quot;UN&quot;</td></tr><tr><td>&quot;VERDURAS - ALFACE ROXA HIDROPO…</td><td>&quot;VERDURAS ALFACE ROXA HIDROPONI…</td><td>2.4</td><td>&quot;UN&quot;</td><td>&quot;UN&quot;</td></tr><tr><td>&quot;VERDURAS - ALFACE ROXA HIDROPO…</td><td>&quot;VERDURAS ALFACE ROXA HIDROPONI…</td><td>2.4</td><td>&quot;UN&quot;</td><td>&quot;UN&quot;</td></tr><tr><td>&quot;VERDURAS - ALFACE ROXA HIDROPO…</td><td>&quot;VERDURAS ALFACE ROXA HIDROPONI…</td><td>2.4</td><td>&quot;UN&quot;</td><td>&quot;UN&quot;</td></tr><tr><td>&quot;VERDURAS - ALFACE ROXA HIDROPO…</td><td>&quot;VERDURAS ALFACE ROXA HIDROPONI…</td><td>2.4</td><td>&quot;UN&quot;</td><td>&quot;UN&quot;</td></tr><tr><td>&quot;VERDURAS - ALFACE ROXA HIDROPO…</td><td>&quot;VERDURAS ALFACE ROXA HIDROPONI…</td><td>2.4</td><td>&quot;UN&quot;</td><td>&quot;UN&quot;</td></tr><tr><td>&quot;VERDURAS - ALFACE ROXA HIDROPO…</td><td>&quot;VERDURAS ALFACE ROXA HIDROPONI…</td><td>2.4</td><td>&quot;UN&quot;</td><td>&quot;UN&quot;</td></tr><tr><td>&quot;VERDURAS - ALFACE ROXA HIDROPO…</td><td>&quot;VERDURAS ALFACE ROXA HIDROPONI…</td><td>2.4</td><td>&quot;UN&quot;</td><td>&quot;UN&quot;</td></tr><tr><td>&quot;VERDURAS - ALFACE ROXA HIDROPO…</td><td>&quot;VERDURAS ALFACE ROXA HIDROPONI…</td><td>2.4</td><td>&quot;UN&quot;</td><td>&quot;UN&quot;</td></tr><tr><td>&hellip;</td><td>&hellip;</td><td>&hellip;</td><td>&hellip;</td><td>&hellip;</td></tr><tr><td>&quot;PAO FOR DA CASA UN&quot;</td><td>&quot;PAO FOR DA CASA&quot;</td><td>4.1</td><td>&quot;UN&quot;</td><td>&quot;UN&quot;</td></tr><tr><td>&quot;PAO FOR DA CASA UN&quot;</td><td>&quot;PAO FOR DA CASA&quot;</td><td>3.98</td><td>&quot;UN&quot;</td><td>&quot;UN&quot;</td></tr><tr><td>&quot;COPO DESC 200ML C/100&quot;</td><td>&quot;COPO DESC C&quot;</td><td>3.89</td><td>&quot;UN&quot;</td><td>&quot;UN&quot;</td></tr><tr><td>&quot;COPO DESC 200ML C/100&quot;</td><td>&quot;COPO DESC C&quot;</td><td>3.89</td><td>&quot;UN&quot;</td><td>&quot;UN&quot;</td></tr><tr><td>&quot;COPO DESC 200ML C/100&quot;</td><td>&quot;COPO DESC C&quot;</td><td>93.0</td><td>&quot;UN&quot;</td><td>&quot;UN&quot;</td></tr><tr><td>&quot;TEMPERO VERDE UN&quot;</td><td>&quot;TEMPERO VERDE&quot;</td><td>1.5</td><td>&quot;UN&quot;</td><td>&quot;UN&quot;</td></tr><tr><td>&quot;TEMPERO VERDE UN&quot;</td><td>&quot;TEMPERO VERDE&quot;</td><td>1.5</td><td>&quot;UN&quot;</td><td>&quot;UN&quot;</td></tr><tr><td>&quot;TEMPERO VERDE UN&quot;</td><td>&quot;TEMPERO VERDE&quot;</td><td>1.5</td><td>&quot;UN&quot;</td><td>&quot;UN&quot;</td></tr><tr><td>&quot;TEMPERO VERDE UN&quot;</td><td>&quot;TEMPERO VERDE&quot;</td><td>1.5</td><td>&quot;UN&quot;</td><td>&quot;UN&quot;</td></tr><tr><td>&quot;TEMPERO VERDE UN&quot;</td><td>&quot;TEMPERO VERDE&quot;</td><td>1.5</td><td>&quot;UN&quot;</td><td>&quot;UN&quot;</td></tr><tr><td>&quot;OVO BRANCO JOSIDITH 12UN&quot;</td><td>&quot;BRANCO JOSIDITH&quot;</td><td>4.81</td><td>&quot;UN&quot;</td><td>&quot;DZ&quot;</td></tr><tr><td>&quot;OVO BRANCO JOSIDITH 12UN&quot;</td><td>&quot;BRANCO JOSIDITH&quot;</td><td>4.81</td><td>&quot;UN&quot;</td><td>&quot;DZ&quot;</td></tr><tr><td>&quot;OVO BRANCO JOSIDITH 12UN&quot;</td><td>&quot;BRANCO JOSIDITH&quot;</td><td>3.99</td><td>&quot;UN&quot;</td><td>&quot;DZ&quot;</td></tr><tr><td>&quot;OVO BRANCO JOSIDITH 12UN&quot;</td><td>&quot;BRANCO JOSIDITH&quot;</td><td>3.99</td><td>&quot;UN&quot;</td><td>&quot;DZ&quot;</td></tr><tr><td>&quot;OVO BRANCO JOSIDITH 12UN&quot;</td><td>&quot;BRANCO JOSIDITH&quot;</td><td>3.96</td><td>&quot;UN&quot;</td><td>&quot;DZ&quot;</td></tr><tr><td>&quot;OVO BRANCO JOSIDITH 12UN&quot;</td><td>&quot;BRANCO JOSIDITH&quot;</td><td>3.96</td><td>&quot;UN&quot;</td><td>&quot;DZ&quot;</td></tr><tr><td>&quot;OVO BRANCO JOSIDITH 12UN&quot;</td><td>&quot;BRANCO JOSIDITH&quot;</td><td>4.25</td><td>&quot;UN&quot;</td><td>&quot;DZ&quot;</td></tr><tr><td>&quot;OVO BRANCO JOSIDITH 12UN&quot;</td><td>&quot;BRANCO JOSIDITH&quot;</td><td>3.98</td><td>&quot;UN&quot;</td><td>&quot;DZ&quot;</td></tr><tr><td>&quot;OVO BRANCO JOSIDITH 12UN&quot;</td><td>&quot;BRANCO JOSIDITH&quot;</td><td>3.98</td><td>&quot;UN&quot;</td><td>&quot;DZ&quot;</td></tr><tr><td>&quot;OVO BRANCO JOSIDITH 12UN&quot;</td><td>&quot;BRANCO JOSIDITH&quot;</td><td>3.99</td><td>&quot;UN&quot;</td><td>&quot;DZ&quot;</td></tr><tr><td>&quot;OVO BRANCO JOSIDITH 12UN&quot;</td><td>&quot;BRANCO JOSIDITH&quot;</td><td>4.35</td><td>&quot;UN&quot;</td><td>&quot;DZ&quot;</td></tr><tr><td>&quot;OVO BRANCO JOSIDITH 12UN&quot;</td><td>&quot;BRANCO JOSIDITH&quot;</td><td>4.35</td><td>&quot;UN&quot;</td><td>&quot;DZ&quot;</td></tr><tr><td>&quot;CORANTE COLORAU 500 PROD GOIAN…</td><td>&quot;CORANTE COLORAU PROD GOIANO&quot;</td><td>7.5</td><td>&quot;UN&quot;</td><td>&quot;UN&quot;</td></tr><tr><td>&quot;CORANTE COLORAU 500 PROD GOIAN…</td><td>&quot;CORANTE COLORAU PROD GOIANO&quot;</td><td>7.5</td><td>&quot;UN&quot;</td><td>&quot;UN&quot;</td></tr><tr><td>&quot;CARTELA DE OVOS 12X1&quot;</td><td>&quot;DE X&quot;</td><td>3.28</td><td>&quot;UN&quot;</td><td>&quot;CT&quot;</td></tr></tbody></table></div>"
      ],
      "text/plain": [
       "shape: (1_023, 5)\n",
       "┌──────────────────────────────┬──────────────────────────────┬───────────────┬──────────────┬─────┐\n",
       "│ item                         ┆ item_deduplicado             ┆ valor_unidade ┆ unidade_item ┆ un  │\n",
       "│ ---                          ┆ ---                          ┆ ---           ┆ ---          ┆ --- │\n",
       "│ str                          ┆ str                          ┆ f32           ┆ str          ┆ str │\n",
       "╞══════════════════════════════╪══════════════════════════════╪═══════════════╪══════════════╪═════╡\n",
       "│ TEMPERO VERDE UN             ┆ TEMPERO VERDE                ┆ 0.9           ┆ UN           ┆ UNB │\n",
       "│ GOIABA VERMELHA TIPO 12-UN   ┆ GOIABA VERMELHA TIPO         ┆ 0.69          ┆ UN           ┆ UN  │\n",
       "│ GOIABA VERMELHA TIPO 12-UN   ┆ GOIABA VERMELHA TIPO         ┆ 0.69          ┆ UN           ┆ UN  │\n",
       "│ GOIABA VERMELHA TIPO 12-UN   ┆ GOIABA VERMELHA TIPO         ┆ 0.69          ┆ UN           ┆ UN  │\n",
       "│ GOIABA VERMELHA TIPO 12-UN   ┆ GOIABA VERMELHA TIPO         ┆ 0.69          ┆ UN           ┆ UN  │\n",
       "│ GOIABA VERMELHA TIPO 12-UN   ┆ GOIABA VERMELHA TIPO         ┆ 0.69          ┆ UN           ┆ UN  │\n",
       "│ GOIABA VERMELHA TIPO 12-UN   ┆ GOIABA VERMELHA TIPO         ┆ 0.69          ┆ UN           ┆ UN  │\n",
       "│ GOIABA VERMELHA TIPO 12-UN   ┆ GOIABA VERMELHA TIPO         ┆ 0.69          ┆ UN           ┆ UN  │\n",
       "│ GOIABA VERMELHA TIPO 12-UN   ┆ GOIABA VERMELHA TIPO         ┆ 0.69          ┆ UN           ┆ UN  │\n",
       "│ TEMPERO VERDE UN             ┆ TEMPERO VERDE                ┆ 2.0           ┆ UN           ┆ UN  │\n",
       "│ TEMPERO VERDE UN             ┆ TEMPERO VERDE                ┆ 2.0           ┆ UN           ┆ UN  │\n",
       "│ TEMPERO VERDE UN             ┆ TEMPERO VERDE                ┆ 2.0           ┆ UN           ┆ UN  │\n",
       "│ TEMPERO VERDE UN             ┆ TEMPERO VERDE                ┆ 2.0           ┆ UN           ┆ UN  │\n",
       "│ TEMPERO VERDE UN             ┆ TEMPERO VERDE                ┆ 2.0           ┆ UN           ┆ UN  │\n",
       "│ TEMPERO VERDE UN             ┆ TEMPERO VERDE                ┆ 2.0           ┆ UN           ┆ UN  │\n",
       "│ TEMPERO VERDE UN             ┆ TEMPERO VERDE                ┆ 4.96          ┆ UN           ┆ UN  │\n",
       "│ VERDURAS - ALFACE ROXA       ┆ VERDURAS ALFACE ROXA         ┆ 2.4           ┆ UN           ┆ UN  │\n",
       "│ HIDROPO…                     ┆ HIDROPONI…                   ┆               ┆              ┆     │\n",
       "│ VERDURAS - ALFACE ROXA       ┆ VERDURAS ALFACE ROXA         ┆ 2.4           ┆ UN           ┆ UN  │\n",
       "│ HIDROPO…                     ┆ HIDROPONI…                   ┆               ┆              ┆     │\n",
       "│ VERDURAS - ALFACE ROXA       ┆ VERDURAS ALFACE ROXA         ┆ 2.4           ┆ UN           ┆ UN  │\n",
       "│ HIDROPO…                     ┆ HIDROPONI…                   ┆               ┆              ┆     │\n",
       "│ VERDURAS - ALFACE ROXA       ┆ VERDURAS ALFACE ROXA         ┆ 2.4           ┆ UN           ┆ UN  │\n",
       "│ HIDROPO…                     ┆ HIDROPONI…                   ┆               ┆              ┆     │\n",
       "│ VERDURAS - ALFACE ROXA       ┆ VERDURAS ALFACE ROXA         ┆ 2.4           ┆ UN           ┆ UN  │\n",
       "│ HIDROPO…                     ┆ HIDROPONI…                   ┆               ┆              ┆     │\n",
       "│ VERDURAS - ALFACE ROXA       ┆ VERDURAS ALFACE ROXA         ┆ 2.4           ┆ UN           ┆ UN  │\n",
       "│ HIDROPO…                     ┆ HIDROPONI…                   ┆               ┆              ┆     │\n",
       "│ VERDURAS - ALFACE ROXA       ┆ VERDURAS ALFACE ROXA         ┆ 2.4           ┆ UN           ┆ UN  │\n",
       "│ HIDROPO…                     ┆ HIDROPONI…                   ┆               ┆              ┆     │\n",
       "│ VERDURAS - ALFACE ROXA       ┆ VERDURAS ALFACE ROXA         ┆ 2.4           ┆ UN           ┆ UN  │\n",
       "│ HIDROPO…                     ┆ HIDROPONI…                   ┆               ┆              ┆     │\n",
       "│ VERDURAS - ALFACE ROXA       ┆ VERDURAS ALFACE ROXA         ┆ 2.4           ┆ UN           ┆ UN  │\n",
       "│ HIDROPO…                     ┆ HIDROPONI…                   ┆               ┆              ┆     │\n",
       "│ …                            ┆ …                            ┆ …             ┆ …            ┆ …   │\n",
       "│ PAO FOR DA CASA UN           ┆ PAO FOR DA CASA              ┆ 4.1           ┆ UN           ┆ UN  │\n",
       "│ PAO FOR DA CASA UN           ┆ PAO FOR DA CASA              ┆ 3.98          ┆ UN           ┆ UN  │\n",
       "│ COPO DESC 200ML C/100        ┆ COPO DESC C                  ┆ 3.89          ┆ UN           ┆ UN  │\n",
       "│ COPO DESC 200ML C/100        ┆ COPO DESC C                  ┆ 3.89          ┆ UN           ┆ UN  │\n",
       "│ COPO DESC 200ML C/100        ┆ COPO DESC C                  ┆ 93.0          ┆ UN           ┆ UN  │\n",
       "│ TEMPERO VERDE UN             ┆ TEMPERO VERDE                ┆ 1.5           ┆ UN           ┆ UN  │\n",
       "│ TEMPERO VERDE UN             ┆ TEMPERO VERDE                ┆ 1.5           ┆ UN           ┆ UN  │\n",
       "│ TEMPERO VERDE UN             ┆ TEMPERO VERDE                ┆ 1.5           ┆ UN           ┆ UN  │\n",
       "│ TEMPERO VERDE UN             ┆ TEMPERO VERDE                ┆ 1.5           ┆ UN           ┆ UN  │\n",
       "│ TEMPERO VERDE UN             ┆ TEMPERO VERDE                ┆ 1.5           ┆ UN           ┆ UN  │\n",
       "│ OVO BRANCO JOSIDITH 12UN     ┆ BRANCO JOSIDITH              ┆ 4.81          ┆ UN           ┆ DZ  │\n",
       "│ OVO BRANCO JOSIDITH 12UN     ┆ BRANCO JOSIDITH              ┆ 4.81          ┆ UN           ┆ DZ  │\n",
       "│ OVO BRANCO JOSIDITH 12UN     ┆ BRANCO JOSIDITH              ┆ 3.99          ┆ UN           ┆ DZ  │\n",
       "│ OVO BRANCO JOSIDITH 12UN     ┆ BRANCO JOSIDITH              ┆ 3.99          ┆ UN           ┆ DZ  │\n",
       "│ OVO BRANCO JOSIDITH 12UN     ┆ BRANCO JOSIDITH              ┆ 3.96          ┆ UN           ┆ DZ  │\n",
       "│ OVO BRANCO JOSIDITH 12UN     ┆ BRANCO JOSIDITH              ┆ 3.96          ┆ UN           ┆ DZ  │\n",
       "│ OVO BRANCO JOSIDITH 12UN     ┆ BRANCO JOSIDITH              ┆ 4.25          ┆ UN           ┆ DZ  │\n",
       "│ OVO BRANCO JOSIDITH 12UN     ┆ BRANCO JOSIDITH              ┆ 3.98          ┆ UN           ┆ DZ  │\n",
       "│ OVO BRANCO JOSIDITH 12UN     ┆ BRANCO JOSIDITH              ┆ 3.98          ┆ UN           ┆ DZ  │\n",
       "│ OVO BRANCO JOSIDITH 12UN     ┆ BRANCO JOSIDITH              ┆ 3.99          ┆ UN           ┆ DZ  │\n",
       "│ OVO BRANCO JOSIDITH 12UN     ┆ BRANCO JOSIDITH              ┆ 4.35          ┆ UN           ┆ DZ  │\n",
       "│ OVO BRANCO JOSIDITH 12UN     ┆ BRANCO JOSIDITH              ┆ 4.35          ┆ UN           ┆ DZ  │\n",
       "│ CORANTE COLORAU 500 PROD     ┆ CORANTE COLORAU PROD GOIANO  ┆ 7.5           ┆ UN           ┆ UN  │\n",
       "│ GOIAN…                       ┆                              ┆               ┆              ┆     │\n",
       "│ CORANTE COLORAU 500 PROD     ┆ CORANTE COLORAU PROD GOIANO  ┆ 7.5           ┆ UN           ┆ UN  │\n",
       "│ GOIAN…                       ┆                              ┆               ┆              ┆     │\n",
       "│ CARTELA DE OVOS 12X1         ┆ DE X                         ┆ 3.28          ┆ UN           ┆ CT  │\n",
       "└──────────────────────────────┴──────────────────────────────┴───────────────┴──────────────┴─────┘"
      ]
     },
     "execution_count": 7,
     "metadata": {},
     "output_type": "execute_result"
    }
   ],
   "source": [
    "df_enriched.filter(pl.col('unidade_item') == 'UN')[['item', 'item_deduplicado', 'valor_unidade', 'unidade_item', 'un']]"
   ]
  },
  {
   "cell_type": "markdown",
   "id": "e40661c6",
   "metadata": {},
   "source": [
    "# Calculate percent values"
   ]
  },
  {
   "cell_type": "code",
   "execution_count": 8,
   "id": "038c7243",
   "metadata": {},
   "outputs": [
    {
     "ename": "TypeError",
     "evalue": "Expected Polars expression or object convertible to one, got <class 'list'>.\n\nHint: if you tried\n    group_by(by=['item_deduplicado', 'ano'])\nthen you probably want to use this instead:\n    group_by(['item_deduplicado', 'ano'])",
     "output_type": "error",
     "traceback": [
      "\u001b[0;31m---------------------------------------------------------------------------\u001b[0m",
      "\u001b[0;31mTypeError\u001b[0m                                 Traceback (most recent call last)",
      "\u001b[0;32m/var/folders/42/_z7t3f3n2b74bggwwctg77z80000gn/T/ipykernel_64555/930523694.py\u001b[0m in \u001b[0;36m?\u001b[0;34m()\u001b[0m\n\u001b[1;32m      1\u001b[0m (\n\u001b[0;32m----> 2\u001b[0;31m     \u001b[0mdf_enriched\u001b[0m\u001b[0;34m.\u001b[0m\u001b[0mgroup_by\u001b[0m\u001b[0;34m(\u001b[0m\u001b[0mby\u001b[0m\u001b[0;34m=\u001b[0m\u001b[0;34m[\u001b[0m\u001b[0;34m'item_deduplicado'\u001b[0m\u001b[0;34m,\u001b[0m \u001b[0;34m'ano'\u001b[0m\u001b[0;34m]\u001b[0m\u001b[0;34m)\u001b[0m\u001b[0;34m\u001b[0m\u001b[0;34m\u001b[0m\u001b[0m\n\u001b[0m\u001b[1;32m      3\u001b[0m       .agg([\n\u001b[1;32m      4\u001b[0m           \u001b[0mpl\u001b[0m\u001b[0;34m.\u001b[0m\u001b[0mcol\u001b[0m\u001b[0;34m(\u001b[0m\u001b[0;34m\"valor\"\u001b[0m\u001b[0;34m)\u001b[0m\u001b[0;34m.\u001b[0m\u001b[0mquantile\u001b[0m\u001b[0;34m(\u001b[0m\u001b[0;36m0.25\u001b[0m\u001b[0;34m)\u001b[0m\u001b[0;34m.\u001b[0m\u001b[0malias\u001b[0m\u001b[0;34m(\u001b[0m\u001b[0;34m\"p25\"\u001b[0m\u001b[0;34m)\u001b[0m\u001b[0;34m,\u001b[0m\u001b[0;34m\u001b[0m\u001b[0;34m\u001b[0m\u001b[0m\n\u001b[1;32m      5\u001b[0m           \u001b[0mpl\u001b[0m\u001b[0;34m.\u001b[0m\u001b[0mcol\u001b[0m\u001b[0;34m(\u001b[0m\u001b[0;34m\"valor\"\u001b[0m\u001b[0;34m)\u001b[0m\u001b[0;34m.\u001b[0m\u001b[0mquantile\u001b[0m\u001b[0;34m(\u001b[0m\u001b[0;36m0.50\u001b[0m\u001b[0;34m)\u001b[0m\u001b[0;34m.\u001b[0m\u001b[0malias\u001b[0m\u001b[0;34m(\u001b[0m\u001b[0;34m\"p50\"\u001b[0m\u001b[0;34m)\u001b[0m\u001b[0;34m,\u001b[0m  \u001b[0;31m# mediana\u001b[0m\u001b[0;34m\u001b[0m\u001b[0;34m\u001b[0m\u001b[0m\n",
      "\u001b[0;32m/opt/anaconda3/lib/python3.11/site-packages/polars/dataframe/frame.py\u001b[0m in \u001b[0;36m?\u001b[0;34m(self, maintain_order, *by, **named_by)\u001b[0m\n\u001b[1;32m   6762\u001b[0m                     \u001b[0;34mf\"    group_by(by={value!r})\\n\"\u001b[0m\u001b[0;34m\u001b[0m\u001b[0;34m\u001b[0m\u001b[0m\n\u001b[1;32m   6763\u001b[0m                     \u001b[0;34m\"then you probably want to use this instead:\\n\"\u001b[0m\u001b[0;34m\u001b[0m\u001b[0;34m\u001b[0m\u001b[0m\n\u001b[1;32m   6764\u001b[0m                     \u001b[0;34mf\"    group_by({value!r})\"\u001b[0m\u001b[0;34m\u001b[0m\u001b[0;34m\u001b[0m\u001b[0m\n\u001b[1;32m   6765\u001b[0m                 )\n\u001b[0;32m-> 6766\u001b[0;31m                 \u001b[0;32mraise\u001b[0m \u001b[0mTypeError\u001b[0m\u001b[0;34m(\u001b[0m\u001b[0mmsg\u001b[0m\u001b[0;34m)\u001b[0m\u001b[0;34m\u001b[0m\u001b[0;34m\u001b[0m\u001b[0m\n\u001b[0m\u001b[1;32m   6767\u001b[0m         \u001b[0;32mreturn\u001b[0m \u001b[0mGroupBy\u001b[0m\u001b[0;34m(\u001b[0m\u001b[0mself\u001b[0m\u001b[0;34m,\u001b[0m \u001b[0;34m*\u001b[0m\u001b[0mby\u001b[0m\u001b[0;34m,\u001b[0m \u001b[0;34m**\u001b[0m\u001b[0mnamed_by\u001b[0m\u001b[0;34m,\u001b[0m \u001b[0mmaintain_order\u001b[0m\u001b[0;34m=\u001b[0m\u001b[0mmaintain_order\u001b[0m\u001b[0;34m)\u001b[0m\u001b[0;34m\u001b[0m\u001b[0;34m\u001b[0m\u001b[0m\n",
      "\u001b[0;31mTypeError\u001b[0m: Expected Polars expression or object convertible to one, got <class 'list'>.\n\nHint: if you tried\n    group_by(by=['item_deduplicado', 'ano'])\nthen you probably want to use this instead:\n    group_by(['item_deduplicado', 'ano'])"
     ]
    }
   ],
   "source": [
    "(\n",
    "    df_enriched.group_by(by=['item_deduplicado', 'ano'])\n",
    "      .agg([\n",
    "          pl.col(\"valor\").quantile(0.25).alias(\"p25\"),\n",
    "          pl.col(\"valor\").quantile(0.50).alias(\"p50\"),  # mediana\n",
    "          pl.col(\"valor\").quantile(0.75).alias(\"p75\"),\n",
    "      ])\n",
    ")"
   ]
  },
  {
   "cell_type": "code",
   "execution_count": null,
   "id": "0b1776e6",
   "metadata": {},
   "outputs": [
    {
     "name": "stdout",
     "output_type": "stream",
     "text": [
      "Número de linhas: 64,703,191\n",
      "Valor unitário igual a 0: 23,394,729\n",
      "Valor unitário total igual a 0: 6,214\n"
     ]
    }
   ],
   "source": [
    "\n"
   ]
  }
 ],
 "metadata": {
  "kernelspec": {
   "display_name": "base",
   "language": "python",
   "name": "python3"
  },
  "language_info": {
   "codemirror_mode": {
    "name": "ipython",
    "version": 3
   },
   "file_extension": ".py",
   "mimetype": "text/x-python",
   "name": "python",
   "nbconvert_exporter": "python",
   "pygments_lexer": "ipython3",
   "version": "3.11.9"
  }
 },
 "nbformat": 4,
 "nbformat_minor": 5
}
