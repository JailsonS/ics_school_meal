{
 "cells": [
  {
   "cell_type": "code",
   "execution_count": 1,
   "id": "a7ce37a7",
   "metadata": {},
   "outputs": [
    {
     "data": {
      "text/plain": [
       "polars.config.Config"
      ]
     },
     "execution_count": 1,
     "metadata": {},
     "output_type": "execute_result"
    }
   ],
   "source": [
    "import polars as pl\n",
    "import json\n",
    "from pprint import pprint\n",
    "pl.Config.set_tbl_rows(50)\n",
    "\n"
   ]
  },
  {
   "cell_type": "code",
   "execution_count": 23,
   "id": "16436c8b",
   "metadata": {},
   "outputs": [],
   "source": [
    "ITENS_COLUNAS = [\n",
    "    'item',\n",
    "    'un',\n",
    "    'qt',\n",
    "    'valor_unidade',\n",
    "    'valor_unidade_total'\n",
    "]\n",
    "\n",
    "UNKNOWN_TEXT = 'Desconhecido'\n",
    "\n",
    "# Dados para visualização\n",
    "VIS_COLS = [\n",
    "    'id_nota_fiscal',\n",
    "    'valor_nota_fiscal',\n",
    "    'item_deduplicado',\n",
    "    'qt',\n",
    "    'valor_unidade',\n",
    "    'valor_unidade_total',\n",
    "]\n"
   ]
  },
  {
   "cell_type": "code",
   "execution_count": 6,
   "id": "b69de11e",
   "metadata": {},
   "outputs": [],
   "source": [
    "df = pl.read_parquet('data/banco_analise_2.parquet')\n",
    "\n",
    "df_enriched = df.filter(pl.col('quantidade_item').is_not_null())"
   ]
  },
  {
   "cell_type": "code",
   "execution_count": 55,
   "id": "fb93d4b7",
   "metadata": {},
   "outputs": [
    {
     "name": "stdout",
     "output_type": "stream",
     "text": [
      "Número de linhas: 64,703,191\n",
      "Registros com valor_unidade = 0 e valor_unidade_total != 0: 23,392,240 (36.15%)\n",
      "Registros com valor_unidade = 0 e valor_unidade_total = 0: 2,151 (0.00%)\n"
     ]
    }
   ],
   "source": [
    "total = len(df)\n",
    "\n",
    "print(f\"Número de linhas: {total:,}\")\n",
    "\n",
    "q1 = len(df.filter(\n",
    "    (pl.col('valor_unidade') == 0) & \n",
    "    (pl.col('valor_unidade_total') != 0) & \n",
    "    (pl.col('qt') != 0)\n",
    "))\n",
    "\n",
    "print(\n",
    "    f\"Registros com valor_unidade = 0 e valor_unidade_total != 0: \"\n",
    "    f\"{q1:,} ({q1/total:.2%})\"\n",
    ")\n",
    "\n",
    "q2 = len(df.filter((pl.col('valor_unidade') == 0) & (pl.col('valor_unidade_total') == 0)))\n",
    "print(\n",
    "    f\"Registros com valor_unidade = 0 e valor_unidade_total = 0: \"\n",
    "    f\"{q2:,} ({q2/total:.2%})\"\n",
    ")\n"
   ]
  },
  {
   "cell_type": "code",
   "execution_count": null,
   "id": "905344e2",
   "metadata": {},
   "outputs": [
    {
     "name": "stderr",
     "output_type": "stream",
     "text": [
      "/var/folders/42/_z7t3f3n2b74bggwwctg77z80000gn/T/ipykernel_63243/4050014677.py:12: DeprecationWarning: the `default` parameter for `replace` is deprecated. Use `replace_strict` instead to set a default while replacing values.\n",
      "(Deprecated in version 1.0.0)\n",
      "  .replace(unidades_corrigidas, default=pl.col(\"unidade_item\"))\n"
     ]
    }
   ],
   "source": [
    "unidades_corrigidas = {\n",
    "    \"UNID\": 'UN', \n",
    "    \"UN\": 'UN',\n",
    "    \"QUILOGRAMA\": 'KG',\n",
    "    \"KG\": 'KG',\n",
    "    \"QUILOGRAMAS\": 'KG',\n",
    "    \"LITRO\": 'L'\n",
    "}   \n",
    "\n",
    "df_enriched = df_enriched.with_columns(\n",
    "    pl.col(\"unidade_item\")\n",
    "    .replace(unidades_corrigidas, default=pl.col(\"unidade_item\"))\n",
    "    .alias(\"unidade_item\")\n",
    ")"
   ]
  },
  {
   "cell_type": "code",
   "execution_count": 27,
   "id": "eca9079f",
   "metadata": {},
   "outputs": [
    {
     "data": {
      "text/html": [
       "<div><style>\n",
       ".dataframe > thead > tr,\n",
       ".dataframe > tbody > tr {\n",
       "  text-align: right;\n",
       "  white-space: pre-wrap;\n",
       "}\n",
       "</style>\n",
       "<small>shape: (10,)</small><table border=\"1\" class=\"dataframe\"><thead><tr><th>unidade_item</th></tr><tr><td>str</td></tr></thead><tbody><tr><td>&quot;SACO&quot;</td></tr><tr><td>&quot;UN&quot;</td></tr><tr><td>&quot;L&quot;</td></tr><tr><td>&quot;KG&quot;</td></tr><tr><td>&quot;G&quot;</td></tr><tr><td>&quot;DUZIA&quot;</td></tr><tr><td>&quot;PCT&quot;</td></tr><tr><td>&quot;Desconhecido&quot;</td></tr><tr><td>&quot;CX&quot;</td></tr><tr><td>&quot;ML&quot;</td></tr></tbody></table></div>"
      ],
      "text/plain": [
       "shape: (10,)\n",
       "Series: 'unidade_item' [str]\n",
       "[\n",
       "\t\"SACO\"\n",
       "\t\"UN\"\n",
       "\t\"L\"\n",
       "\t\"KG\"\n",
       "\t\"G\"\n",
       "\t\"DUZIA\"\n",
       "\t\"PCT\"\n",
       "\t\"Desconhecido\"\n",
       "\t\"CX\"\n",
       "\t\"ML\"\n",
       "]"
      ]
     },
     "execution_count": 27,
     "metadata": {},
     "output_type": "execute_result"
    }
   ],
   "source": [
    "df_enriched['unidade_item'].unique()"
   ]
  },
  {
   "cell_type": "code",
   "execution_count": 41,
   "id": "acb2f57f",
   "metadata": {},
   "outputs": [
    {
     "data": {
      "text/html": [
       "<div><style>\n",
       ".dataframe > thead > tr,\n",
       ".dataframe > tbody > tr {\n",
       "  text-align: right;\n",
       "  white-space: pre-wrap;\n",
       "}\n",
       "</style>\n",
       "<small>shape: (26, 5)</small><table border=\"1\" class=\"dataframe\"><thead><tr><th>item</th><th>item_deduplicado</th><th>valor_unidade</th><th>unidade_item</th><th>un</th></tr><tr><td>str</td><td>str</td><td>f32</td><td>str</td><td>str</td></tr></thead><tbody><tr><td>&quot;FOLHAGEM - DIVERSAS 1 QTD 1000…</td><td>&quot;FOLHAGEM DIVERSAS QTD&quot;</td><td>4.99</td><td>&quot;UN&quot;</td><td>&quot;UN&quot;</td></tr><tr><td>&quot;FOLHAGEM - DIVERSAS 1 QTD 1000…</td><td>&quot;FOLHAGEM DIVERSAS QTD&quot;</td><td>3.99</td><td>&quot;UN&quot;</td><td>&quot;UN&quot;</td></tr><tr><td>&quot;LEITE PO LATA ZERO LACTOSE UN&quot;</td><td>&quot;LEITE PO ZERO LACTOSE&quot;</td><td>16.0</td><td>&quot;UN&quot;</td><td>&quot;UN&quot;</td></tr><tr><td>&quot;LEITE PO LATA ZERO LACTOSE UN&quot;</td><td>&quot;LEITE PO ZERO LACTOSE&quot;</td><td>16.0</td><td>&quot;UN&quot;</td><td>&quot;UN&quot;</td></tr><tr><td>&quot;LEITE PO LATA ZERO LACTOSE UN&quot;</td><td>&quot;LEITE PO ZERO LACTOSE&quot;</td><td>16.0</td><td>&quot;UN&quot;</td><td>&quot;UN&quot;</td></tr><tr><td>&quot;LEITE PO LATA ZERO LACTOSE UN&quot;</td><td>&quot;LEITE PO ZERO LACTOSE&quot;</td><td>16.0</td><td>&quot;UN&quot;</td><td>&quot;UN&quot;</td></tr><tr><td>&quot;LEITE PO LATA ZERO LACTOSE UN&quot;</td><td>&quot;LEITE PO ZERO LACTOSE&quot;</td><td>16.0</td><td>&quot;UN&quot;</td><td>&quot;UN&quot;</td></tr><tr><td>&quot;TEMP CHEIRO VERDE CASEIRO 500M…</td><td>&quot;TEMP CHEIRO VERDE CASEIRO QTD&quot;</td><td>1.61</td><td>&quot;UN&quot;</td><td>&quot;UN&quot;</td></tr><tr><td>&quot;TEMP CHEIRO VERDE CASEIRO 500M…</td><td>&quot;TEMP CHEIRO VERDE CASEIRO QTD&quot;</td><td>1.61</td><td>&quot;UN&quot;</td><td>&quot;UN&quot;</td></tr><tr><td>&quot;LEITE PO LATA ZERO LACTOSE UN&quot;</td><td>&quot;LEITE PO ZERO LACTOSE&quot;</td><td>18.75</td><td>&quot;UN&quot;</td><td>&quot;UN&quot;</td></tr><tr><td>&quot;LEITE PO LATA ZERO LACTOSE UN&quot;</td><td>&quot;LEITE PO ZERO LACTOSE&quot;</td><td>18.75</td><td>&quot;UN&quot;</td><td>&quot;UN&quot;</td></tr><tr><td>&quot;LEITE PO LATA ZERO LACTOSE UN&quot;</td><td>&quot;LEITE PO ZERO LACTOSE&quot;</td><td>18.75</td><td>&quot;UN&quot;</td><td>&quot;UN&quot;</td></tr><tr><td>&quot;LEITE PO LATA ZERO LACTOSE UN&quot;</td><td>&quot;LEITE PO ZERO LACTOSE&quot;</td><td>18.75</td><td>&quot;UN&quot;</td><td>&quot;UN&quot;</td></tr><tr><td>&quot;LEITE PO LATA ZERO LACTOSE UN&quot;</td><td>&quot;LEITE PO ZERO LACTOSE&quot;</td><td>18.75</td><td>&quot;UN&quot;</td><td>&quot;UN&quot;</td></tr><tr><td>&quot;LEITE PO LATA ZERO LACTOSE UN&quot;</td><td>&quot;LEITE PO ZERO LACTOSE&quot;</td><td>18.75</td><td>&quot;UN&quot;</td><td>&quot;UN&quot;</td></tr><tr><td>&quot;LEITE PO LATA ZERO LACTOSE UN&quot;</td><td>&quot;LEITE PO ZERO LACTOSE&quot;</td><td>18.75</td><td>&quot;UN&quot;</td><td>&quot;UN&quot;</td></tr><tr><td>&quot;LEITE PO LATA ZERO LACTOSE UN&quot;</td><td>&quot;LEITE PO ZERO LACTOSE&quot;</td><td>18.75</td><td>&quot;UN&quot;</td><td>&quot;UN&quot;</td></tr><tr><td>&quot;LEITE PO LATA ZERO LACTOSE UN&quot;</td><td>&quot;LEITE PO ZERO LACTOSE&quot;</td><td>18.75</td><td>&quot;UN&quot;</td><td>&quot;UN&quot;</td></tr><tr><td>&quot;LEITE PO LATA ZERO LACTOSE UN&quot;</td><td>&quot;LEITE PO ZERO LACTOSE&quot;</td><td>18.75</td><td>&quot;UN&quot;</td><td>&quot;UN&quot;</td></tr><tr><td>&quot;LEITE PO LATA ZERO LACTOSE UN&quot;</td><td>&quot;LEITE PO ZERO LACTOSE&quot;</td><td>18.75</td><td>&quot;UN&quot;</td><td>&quot;UN&quot;</td></tr><tr><td>&quot;LEITE PO LATA ZERO LACTOSE UN&quot;</td><td>&quot;LEITE PO ZERO LACTOSE&quot;</td><td>18.75</td><td>&quot;UN&quot;</td><td>&quot;UN&quot;</td></tr><tr><td>&quot;LEITE PO LATA ZERO LACTOSE UN&quot;</td><td>&quot;LEITE PO ZERO LACTOSE&quot;</td><td>18.75</td><td>&quot;UN&quot;</td><td>&quot;UN&quot;</td></tr><tr><td>&quot;LEITE PO LATA ZERO LACTOSE UN&quot;</td><td>&quot;LEITE PO ZERO LACTOSE&quot;</td><td>240.0</td><td>&quot;UN&quot;</td><td>&quot;UN&quot;</td></tr><tr><td>&quot;LEITE PO LATA ZERO LACTOSE UN&quot;</td><td>&quot;LEITE PO ZERO LACTOSE&quot;</td><td>18.75</td><td>&quot;UN&quot;</td><td>&quot;UN&quot;</td></tr><tr><td>&quot;BANDEIJA DE OVOS COM 12 UNID&quot;</td><td>&quot;BANDEIJA DE COM&quot;</td><td>5.92</td><td>&quot;UN&quot;</td><td>&quot;UN&quot;</td></tr><tr><td>&quot;FOLHAGEM - DIVERSAS 1 QTD 1000…</td><td>&quot;FOLHAGEM DIVERSAS QTD&quot;</td><td>2.99</td><td>&quot;UN&quot;</td><td>&quot;UN&quot;</td></tr></tbody></table></div>"
      ],
      "text/plain": [
       "shape: (26, 5)\n",
       "┌─────────────────────────────────┬───────────────────────────┬───────────────┬──────────────┬─────┐\n",
       "│ item                            ┆ item_deduplicado          ┆ valor_unidade ┆ unidade_item ┆ un  │\n",
       "│ ---                             ┆ ---                       ┆ ---           ┆ ---          ┆ --- │\n",
       "│ str                             ┆ str                       ┆ f32           ┆ str          ┆ str │\n",
       "╞═════════════════════════════════╪═══════════════════════════╪═══════════════╪══════════════╪═════╡\n",
       "│ FOLHAGEM - DIVERSAS 1 QTD 1000… ┆ FOLHAGEM DIVERSAS QTD     ┆ 4.99          ┆ UN           ┆ UN  │\n",
       "│ FOLHAGEM - DIVERSAS 1 QTD 1000… ┆ FOLHAGEM DIVERSAS QTD     ┆ 3.99          ┆ UN           ┆ UN  │\n",
       "│ LEITE PO LATA ZERO LACTOSE UN   ┆ LEITE PO ZERO LACTOSE     ┆ 16.0          ┆ UN           ┆ UN  │\n",
       "│ LEITE PO LATA ZERO LACTOSE UN   ┆ LEITE PO ZERO LACTOSE     ┆ 16.0          ┆ UN           ┆ UN  │\n",
       "│ LEITE PO LATA ZERO LACTOSE UN   ┆ LEITE PO ZERO LACTOSE     ┆ 16.0          ┆ UN           ┆ UN  │\n",
       "│ LEITE PO LATA ZERO LACTOSE UN   ┆ LEITE PO ZERO LACTOSE     ┆ 16.0          ┆ UN           ┆ UN  │\n",
       "│ LEITE PO LATA ZERO LACTOSE UN   ┆ LEITE PO ZERO LACTOSE     ┆ 16.0          ┆ UN           ┆ UN  │\n",
       "│ TEMP CHEIRO VERDE CASEIRO 500M… ┆ TEMP CHEIRO VERDE CASEIRO ┆ 1.61          ┆ UN           ┆ UN  │\n",
       "│                                 ┆ QTD                       ┆               ┆              ┆     │\n",
       "│ TEMP CHEIRO VERDE CASEIRO 500M… ┆ TEMP CHEIRO VERDE CASEIRO ┆ 1.61          ┆ UN           ┆ UN  │\n",
       "│                                 ┆ QTD                       ┆               ┆              ┆     │\n",
       "│ LEITE PO LATA ZERO LACTOSE UN   ┆ LEITE PO ZERO LACTOSE     ┆ 18.75         ┆ UN           ┆ UN  │\n",
       "│ LEITE PO LATA ZERO LACTOSE UN   ┆ LEITE PO ZERO LACTOSE     ┆ 18.75         ┆ UN           ┆ UN  │\n",
       "│ LEITE PO LATA ZERO LACTOSE UN   ┆ LEITE PO ZERO LACTOSE     ┆ 18.75         ┆ UN           ┆ UN  │\n",
       "│ LEITE PO LATA ZERO LACTOSE UN   ┆ LEITE PO ZERO LACTOSE     ┆ 18.75         ┆ UN           ┆ UN  │\n",
       "│ LEITE PO LATA ZERO LACTOSE UN   ┆ LEITE PO ZERO LACTOSE     ┆ 18.75         ┆ UN           ┆ UN  │\n",
       "│ LEITE PO LATA ZERO LACTOSE UN   ┆ LEITE PO ZERO LACTOSE     ┆ 18.75         ┆ UN           ┆ UN  │\n",
       "│ LEITE PO LATA ZERO LACTOSE UN   ┆ LEITE PO ZERO LACTOSE     ┆ 18.75         ┆ UN           ┆ UN  │\n",
       "│ LEITE PO LATA ZERO LACTOSE UN   ┆ LEITE PO ZERO LACTOSE     ┆ 18.75         ┆ UN           ┆ UN  │\n",
       "│ LEITE PO LATA ZERO LACTOSE UN   ┆ LEITE PO ZERO LACTOSE     ┆ 18.75         ┆ UN           ┆ UN  │\n",
       "│ LEITE PO LATA ZERO LACTOSE UN   ┆ LEITE PO ZERO LACTOSE     ┆ 18.75         ┆ UN           ┆ UN  │\n",
       "│ LEITE PO LATA ZERO LACTOSE UN   ┆ LEITE PO ZERO LACTOSE     ┆ 18.75         ┆ UN           ┆ UN  │\n",
       "│ LEITE PO LATA ZERO LACTOSE UN   ┆ LEITE PO ZERO LACTOSE     ┆ 18.75         ┆ UN           ┆ UN  │\n",
       "│ LEITE PO LATA ZERO LACTOSE UN   ┆ LEITE PO ZERO LACTOSE     ┆ 18.75         ┆ UN           ┆ UN  │\n",
       "│ LEITE PO LATA ZERO LACTOSE UN   ┆ LEITE PO ZERO LACTOSE     ┆ 240.0         ┆ UN           ┆ UN  │\n",
       "│ LEITE PO LATA ZERO LACTOSE UN   ┆ LEITE PO ZERO LACTOSE     ┆ 18.75         ┆ UN           ┆ UN  │\n",
       "│ BANDEIJA DE OVOS COM 12 UNID    ┆ BANDEIJA DE COM           ┆ 5.92          ┆ UN           ┆ UN  │\n",
       "│ FOLHAGEM - DIVERSAS 1 QTD 1000… ┆ FOLHAGEM DIVERSAS QTD     ┆ 2.99          ┆ UN           ┆ UN  │\n",
       "└─────────────────────────────────┴───────────────────────────┴───────────────┴──────────────┴─────┘"
      ]
     },
     "execution_count": 41,
     "metadata": {},
     "output_type": "execute_result"
    }
   ],
   "source": [
    "df_enriched.filter(pl.col('unidade_item') == 'UN')[['item', 'item_deduplicado', 'valor_unidade', 'unidade_item', 'un']]"
   ]
  },
  {
   "cell_type": "markdown",
   "id": "e40661c6",
   "metadata": {},
   "source": [
    "# Calculate percent values"
   ]
  },
  {
   "cell_type": "code",
   "execution_count": 54,
   "id": "038c7243",
   "metadata": {},
   "outputs": [
    {
     "ename": "TypeError",
     "evalue": "Expected Polars expression or object convertible to one, got <class 'list'>.\n\nHint: if you tried\n    group_by(by=['item_deduplicado', 'ano'])\nthen you probably want to use this instead:\n    group_by(['item_deduplicado', 'ano'])",
     "output_type": "error",
     "traceback": [
      "\u001b[0;31m---------------------------------------------------------------------------\u001b[0m",
      "\u001b[0;31mTypeError\u001b[0m                                 Traceback (most recent call last)",
      "\u001b[0;32m/var/folders/42/_z7t3f3n2b74bggwwctg77z80000gn/T/ipykernel_63243/930523694.py\u001b[0m in \u001b[0;36m?\u001b[0;34m()\u001b[0m\n\u001b[1;32m      1\u001b[0m (\n\u001b[0;32m----> 2\u001b[0;31m     \u001b[0mdf_enriched\u001b[0m\u001b[0;34m.\u001b[0m\u001b[0mgroup_by\u001b[0m\u001b[0;34m(\u001b[0m\u001b[0mby\u001b[0m\u001b[0;34m=\u001b[0m\u001b[0;34m[\u001b[0m\u001b[0;34m'item_deduplicado'\u001b[0m\u001b[0;34m,\u001b[0m \u001b[0;34m'ano'\u001b[0m\u001b[0;34m]\u001b[0m\u001b[0;34m)\u001b[0m\u001b[0;34m\u001b[0m\u001b[0;34m\u001b[0m\u001b[0m\n\u001b[0m\u001b[1;32m      3\u001b[0m       .agg([\n\u001b[1;32m      4\u001b[0m           \u001b[0mpl\u001b[0m\u001b[0;34m.\u001b[0m\u001b[0mcol\u001b[0m\u001b[0;34m(\u001b[0m\u001b[0;34m\"valor\"\u001b[0m\u001b[0;34m)\u001b[0m\u001b[0;34m.\u001b[0m\u001b[0mquantile\u001b[0m\u001b[0;34m(\u001b[0m\u001b[0;36m0.25\u001b[0m\u001b[0;34m)\u001b[0m\u001b[0;34m.\u001b[0m\u001b[0malias\u001b[0m\u001b[0;34m(\u001b[0m\u001b[0;34m\"p25\"\u001b[0m\u001b[0;34m)\u001b[0m\u001b[0;34m,\u001b[0m\u001b[0;34m\u001b[0m\u001b[0;34m\u001b[0m\u001b[0m\n\u001b[1;32m      5\u001b[0m           \u001b[0mpl\u001b[0m\u001b[0;34m.\u001b[0m\u001b[0mcol\u001b[0m\u001b[0;34m(\u001b[0m\u001b[0;34m\"valor\"\u001b[0m\u001b[0;34m)\u001b[0m\u001b[0;34m.\u001b[0m\u001b[0mquantile\u001b[0m\u001b[0;34m(\u001b[0m\u001b[0;36m0.50\u001b[0m\u001b[0;34m)\u001b[0m\u001b[0;34m.\u001b[0m\u001b[0malias\u001b[0m\u001b[0;34m(\u001b[0m\u001b[0;34m\"p50\"\u001b[0m\u001b[0;34m)\u001b[0m\u001b[0;34m,\u001b[0m  \u001b[0;31m# mediana\u001b[0m\u001b[0;34m\u001b[0m\u001b[0;34m\u001b[0m\u001b[0m\n",
      "\u001b[0;32m/opt/anaconda3/lib/python3.11/site-packages/polars/dataframe/frame.py\u001b[0m in \u001b[0;36m?\u001b[0;34m(self, maintain_order, *by, **named_by)\u001b[0m\n\u001b[1;32m   6762\u001b[0m                     \u001b[0;34mf\"    group_by(by={value!r})\\n\"\u001b[0m\u001b[0;34m\u001b[0m\u001b[0;34m\u001b[0m\u001b[0m\n\u001b[1;32m   6763\u001b[0m                     \u001b[0;34m\"then you probably want to use this instead:\\n\"\u001b[0m\u001b[0;34m\u001b[0m\u001b[0;34m\u001b[0m\u001b[0m\n\u001b[1;32m   6764\u001b[0m                     \u001b[0;34mf\"    group_by({value!r})\"\u001b[0m\u001b[0;34m\u001b[0m\u001b[0;34m\u001b[0m\u001b[0m\n\u001b[1;32m   6765\u001b[0m                 )\n\u001b[0;32m-> 6766\u001b[0;31m                 \u001b[0;32mraise\u001b[0m \u001b[0mTypeError\u001b[0m\u001b[0;34m(\u001b[0m\u001b[0mmsg\u001b[0m\u001b[0;34m)\u001b[0m\u001b[0;34m\u001b[0m\u001b[0;34m\u001b[0m\u001b[0m\n\u001b[0m\u001b[1;32m   6767\u001b[0m         \u001b[0;32mreturn\u001b[0m \u001b[0mGroupBy\u001b[0m\u001b[0;34m(\u001b[0m\u001b[0mself\u001b[0m\u001b[0;34m,\u001b[0m \u001b[0;34m*\u001b[0m\u001b[0mby\u001b[0m\u001b[0;34m,\u001b[0m \u001b[0;34m**\u001b[0m\u001b[0mnamed_by\u001b[0m\u001b[0;34m,\u001b[0m \u001b[0mmaintain_order\u001b[0m\u001b[0;34m=\u001b[0m\u001b[0mmaintain_order\u001b[0m\u001b[0;34m)\u001b[0m\u001b[0;34m\u001b[0m\u001b[0;34m\u001b[0m\u001b[0m\n",
      "\u001b[0;31mTypeError\u001b[0m: Expected Polars expression or object convertible to one, got <class 'list'>.\n\nHint: if you tried\n    group_by(by=['item_deduplicado', 'ano'])\nthen you probably want to use this instead:\n    group_by(['item_deduplicado', 'ano'])"
     ]
    }
   ],
   "source": [
    "(\n",
    "    df_enriched.group_by(by=['item_deduplicado', 'ano'])\n",
    "      .agg([\n",
    "          pl.col(\"valor\").quantile(0.25).alias(\"p25\"),\n",
    "          pl.col(\"valor\").quantile(0.50).alias(\"p50\"),  # mediana\n",
    "          pl.col(\"valor\").quantile(0.75).alias(\"p75\"),\n",
    "      ])\n",
    ")"
   ]
  },
  {
   "cell_type": "code",
   "execution_count": null,
   "id": "0b1776e6",
   "metadata": {},
   "outputs": [
    {
     "name": "stdout",
     "output_type": "stream",
     "text": [
      "Número de linhas: 64,703,191\n",
      "Valor unitário igual a 0: 23,394,729\n",
      "Valor unitário total igual a 0: 6,214\n"
     ]
    }
   ],
   "source": [
    "\n"
   ]
  }
 ],
 "metadata": {
  "kernelspec": {
   "display_name": "base",
   "language": "python",
   "name": "python3"
  },
  "language_info": {
   "codemirror_mode": {
    "name": "ipython",
    "version": 3
   },
   "file_extension": ".py",
   "mimetype": "text/x-python",
   "name": "python",
   "nbconvert_exporter": "python",
   "pygments_lexer": "ipython3",
   "version": "3.11.9"
  }
 },
 "nbformat": 4,
 "nbformat_minor": 5
}
